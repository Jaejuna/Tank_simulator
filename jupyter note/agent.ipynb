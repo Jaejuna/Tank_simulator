{
 "cells": [
  {
   "cell_type": "code",
   "execution_count": null,
   "metadata": {},
   "outputs": [],
   "source": [
    "import requests\n",
    "import json \n",
    "import random\n",
    "\n",
    "#서버 통신을 위한 비밀키\n",
    "key = 'b5d5bd555a1501b7324a020b229f7acdbf52afdea9bc2d5f96a74cf6d2e94780'      \n",
    "statusParam = {\n",
    "    \"key\" : key,\n",
    "    \"playerName\" : \"P1\"\n",
    "}\n",
    "\n",
    "status = requests.get('https://20.196.214.79:5050/game/status', data = statusParam)\n",
    "json_object = json.loads(status.content)\n",
    "agents = json_object[\"data\"][\"message\"][\"agent_info\"][\"agent\"]\n",
    "for idx in range(4):\n",
    "    agentInfo = agents[idx]\n",
    "    direction = random.randrange(0,3)\n",
    "    if direction == 0:\n",
    "        dirTxt = \"Foward\"\n",
    "    elif direction == 1:\n",
    "        dirTxt = \"Left\"\n",
    "    elif direction == 2:\n",
    "        dirTxt = \"Back\"\n",
    "    elif direction == 3:\n",
    "        dirTxt = \"Right\"\n",
    "    moveParams = {\n",
    "        \"key\" : key,\n",
    "        \"uid\" : agentInfo[\"uid\"],\n",
    "        \"direction\" : direction\n",
    "    }\n",
    "    move = requests.post('https://20.196.214.79:5050/agent/move', data = moveParams)\n",
    "    print(agentInfo[\"name\"], \" = \", dirTxt)"
   ]
  }
 ],
 "metadata": {
  "language_info": {
   "name": "python"
  },
  "orig_nbformat": 4
 },
 "nbformat": 4,
 "nbformat_minor": 2
}
