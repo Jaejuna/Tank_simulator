{
 "cells": [
  {
   "cell_type": "code",
   "execution_count": null,
   "metadata": {},
   "outputs": [],
   "source": [
    "import requests\n",
    "import json \n",
    "\n",
    "# session/resource\n",
    "resource = requests.get('https://20.196.214.79:5050/session/resource')\n",
    "print(\"createRequest:\", resource.content)\n",
    "print(\"resource:\", resource.status_code)\n",
    "json_object = json.loads(resource.contect)\n",
    "print(\"data.message:\", json_object[\"data\"][\"message\"])"
   ]
  },
  {
   "cell_type": "code",
   "execution_count": null,
   "metadata": {},
   "outputs": [],
   "source": [
    "# session/create\n",
    "params = {\n",
    "    \"ip\": \"20.196.214.79\",\n",
    "    \"IsWindowMode\":\"true\", \n",
    "    \"Res_X\":\"498\", \n",
    "    \"Res_y\":\"498\"\n",
    "    }\n",
    "create = requests.post('https://20.196.214.79:5050/session/create', date = params)\n",
    "print(\"createRequest:\", create.content)"
   ]
  },
  {
   "cell_type": "code",
   "execution_count": null,
   "metadata": {},
   "outputs": [],
   "source": [
    "# session/join\n",
    "key = 'b5d5bd555a1501b7324a020b229f7acdbf52afdea9bc2d5f96a74cf6d2e94780'       #서버 통신을 위한 비밀키\n",
    "params = {\n",
    "    \"key\": key,\n",
    "    \"player\": \"P1\"\n",
    "}\n",
    "join = requests.post('http://20.196.214.79/session/join', data = params)\n",
    "if (join.status_code == 200):\n",
    "    print('join success!')\n",
    "    # game/start\n",
    "    gameStartParams = {\n",
    "        \"key\" : key,\n",
    "        \"trun\" : 100,\n",
    "        \"dialation\": 5\n",
    "        }\n",
    "    join = requests.post('http://20.196.214.79/game/start', data = gameStartParams)\n",
    "    if (join.status_code == 200):\n",
    "        print('game start!')\n",
    "    else:\n",
    "        print(\"game start failed\")\n",
    "else:\n",
    "    print('session join failed')"
   ]
  }
 ],
 "metadata": {
  "language_info": {
   "name": "python"
  }
 },
 "nbformat": 4,
 "nbformat_minor": 4
}
