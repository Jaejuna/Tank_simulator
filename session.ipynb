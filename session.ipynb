{
 "cells": [
  {
   "cell_type": "code",
   "execution_count": null,
   "metadata": {},
   "outputs": [],
   "source": [
    "import requests\n",
    "import json \n",
    "\n",
    "# session/resource\n",
    "resource = requests.get('https://20.196.214.79:5050/session/resource', verify = False)\n",
    "print(\"createRequest:\", resource.content)\n",
    "print(\"resource:\", resource.status_code)\n",
    "json_object = json.loads(resource.content)\n",
    "print(\"data.message:\", json_object[\"data\"][\"message\"])"
   ]
  },
  {
   "cell_type": "code",
   "execution_count": null,
   "metadata": {},
   "outputs": [],
   "source": [
    "# session/end\n",
    "key = 'b5d5bd555a1501b7324a020b229f7acdbf52afdea9bc2d5f96a74cf6d2e94780'       \n",
    "resource = requests.post('https://20.196.214.79:5050/session/end', key)\n",
    "print(\"game ended\")"
   ]
  },
  {
   "cell_type": "code",
   "execution_count": null,
   "metadata": {},
   "outputs": [],
   "source": [
    "import requests\n",
    "import json \n",
    "\n",
    "# session/reset\n",
    "key = 'b5d5bd555a1501b7324a020b229f7acdbf52afdea9bc2d5f96a74cf6d2e94780'       \n",
    "resource = requests.post('https://20.196.214.79:5050/session/reset', key)\n",
    "print(\"program reseted\")"
   ]
  },
  {
   "cell_type": "code",
   "execution_count": null,
   "metadata": {},
   "outputs": [],
   "source": [
    "# session/create\n",
    "params = {\n",
    "    \"ip\": \"20.196.214.79\",\n",
    "    \"IsWindowMode\":\"true\", \n",
    "    \"Res_X\":\"498\", \n",
    "    \"Res_y\":\"498\"\n",
    "    }\n",
    "create = requests.post('https://20.196.214.79:5050/session/create', date = params)\n",
    "print(\"createRequest:\", create.content)"
   ]
  },
  {
   "cell_type": "code",
   "execution_count": null,
   "metadata": {},
   "outputs": [],
   "source": [
    "# session/join\n",
    "\n",
    "#서버 통신을 위한 비밀키\n",
    "key = 'b5d5bd555a1501b7324a020b229f7acdbf52afdea9bc2d5f96a74cf6d2e94780'       \n",
    "params = {\n",
    "    \"key\": key,\n",
    "    \"player\": \"P1\"\n",
    "}\n",
    "join = requests.post('http://20.196.214.79/session/join', data = params, verify = False)\n",
    "if (join.status_code == 200):\n",
    "    print('join success!')\n",
    "    # game/start\n",
    "    gameStartParams = {\n",
    "        \"key\" : key,\n",
    "        \"trun\" : 100,\n",
    "        \"dialation\": 5\n",
    "        }\n",
    "    join = requests.post('http://20.196.214.79/game/start', data = gameStartParams, verify = False)\n",
    "    if (join.status_code == 200):\n",
    "        print('game start!')\n",
    "    else:\n",
    "        print(\"game start failed\")\n",
    "else:\n",
    "    print('session join failed')"
   ]
  }
 ],
 "metadata": {
  "interpreter": {
   "hash": "949777d72b0d2535278d3dc13498b2535136f6dfe0678499012e853ee9abcab1"
  },
  "kernelspec": {
   "display_name": "Python 3.7.4 64-bit",
   "language": "python",
   "name": "python3"
  },
  "language_info": {
   "codemirror_mode": {
    "name": "ipython",
    "version": 3
   },
   "file_extension": ".py",
   "mimetype": "text/x-python",
   "name": "python",
   "nbconvert_exporter": "python",
   "pygments_lexer": "ipython3",
   "version": "3.7.4"
  }
 },
 "nbformat": 4,
 "nbformat_minor": 4
}
