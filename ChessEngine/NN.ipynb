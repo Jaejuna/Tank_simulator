{
 "cells": [
  {
   "cell_type": "code",
   "execution_count": null,
   "metadata": {},
   "outputs": [],
   "source": [
    "#prereq\n",
    "from keras.models import Input,Model\n",
    "from keras.layers import Dense,Flatten,Reshape\n",
    "from keras.layers.convolutional import Conv2D\n",
    "from keras.callbacks import EarlyStopping\n",
    "from keras.models import load_model\n",
    "from board_conversion import *\n",
    "import chess"
   ]
  },
  {
   "cell_type": "code",
   "execution_count": null,
   "metadata": {},
   "outputs": [],
   "source": [
    "##NN defs\n",
    "class NeuralNetwork():\n",
    "    def __init__(self):\n",
    "        self.optimizer = 'Adam'\n",
    "        self.loss = 'categorical_crossentropy'\n",
    "        \n",
    "    def define(self):\n",
    "        input_layer= Input(shape=(8,8,12))\n",
    "        x = Conv2D(filters=64,kernel_size = 2,strides = (2,2))(input_layer)\n",
    "        x = Conv2D(filters=128,kernel_size=2,strides = (2,2))(x)\n",
    "        x = Conv2D(filters=256,kernel_size=2,strides = (2,2))(x)\n",
    "        x = Flatten()(x)\n",
    "\n",
    "        x = Dense(4096,activation = 'softmax')(x)\n",
    "        output = Reshape((1,64,64))(x)\n",
    "\n",
    "        model = Model(inputs=input_layer,outputs=output)\n",
    "        model.compile(optimizer = self.optimzier,loss = self.loss)\n",
    "        self.model = model"
   ]
  },
  {
   "cell_type": "code",
   "execution_count": null,
   "metadata": {},
   "outputs": [],
   "source": [
    "#filter_moves\n",
    "def filter_legal_moves(board,logits):\n",
    "    filter_mask = np.zeros(logits.shape)\n",
    "    legal_moves = board.legal_moves\n",
    "    for legal_move in legal_moves:\n",
    "        from_square = legal_move.from_square\n",
    "        to_square = legal_move.to_square\n",
    "        filter_mask[from_square,to_square] = 1\n",
    "    new_logits = logits*filter_mask\n",
    "    return new_logits"
   ]
  }
 ],
 "metadata": {
  "language_info": {
   "name": "python"
  },
  "orig_nbformat": 4
 },
 "nbformat": 4,
 "nbformat_minor": 2
}
