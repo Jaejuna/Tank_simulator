{
 "cells": [
  {
   "cell_type": "code",
   "execution_count": 2,
   "metadata": {},
   "outputs": [
    {
     "name": "stdout",
     "output_type": "stream",
     "text": [
      "Ended turn!\n"
     ]
    }
   ],
   "source": [
    "import requests\n",
    "import json \n",
    "\n",
    "#game/endturn\n",
    "key = 'b5d5bd555a1501b7324a020b229f7acdbf52afdea9bc2d5f96a74cf6d2e94780' \n",
    "player = \"P1\"      \n",
    "params = {\n",
    "    \"key\": key,\n",
    "    \"player\": player\n",
    "}\n",
    "endTurn = requests.post('http://20.196.214.79:5050/game/endturn', data = params)\n",
    "print('Ended turn!')"
   ]
  },
  {
   "cell_type": "code",
   "execution_count": null,
   "metadata": {},
   "outputs": [],
   "source": [
    "#game/giveup\n",
    "key = 'b5d5bd555a1501b7324a020b229f7acdbf52afdea9bc2d5f96a74cf6d2e94780' \n",
    "player = \"P1\"      \n",
    "params = {\n",
    "    \"key\": key,\n",
    "    \"player\": player\n",
    "}\n",
    "giveup = requests.post('http://20.196.214.79:5050/game/giveup', data = params)\n",
    "print('gave up the game!')"
   ]
  },
  {
   "cell_type": "code",
   "execution_count": null,
   "metadata": {},
   "outputs": [],
   "source": [
    "#game/status\n",
    "key = 'b5d5bd555a1501b7324a020b229f7acdbf52afdea9bc2d5f96a74cf6d2e94780' \n",
    "player = \"P1\"      \n",
    "params = {\n",
    "    \"key\": key,\n",
    "    \"player\": player\n",
    "}\n",
    "\n",
    "status = requests.get('https://20.196.214.79:5050/game/status', data = params)\n",
    "json_object = json.loads(status.content)\n",
    "agents = json_object[\"data\"][\"message\"][\"agent_info\"][\"agent\"]"
   ]
  },
  {
   "cell_type": "code",
   "execution_count": null,
   "metadata": {},
   "outputs": [],
   "source": [
    "#game/view\n",
    "key = 'b5d5bd555a1501b7324a020b229f7acdbf52afdea9bc2d5f96a74cf6d2e94780' \n",
    "player = \"P1\"      \n",
    "params = {\n",
    "    \"key\": key,\n",
    "    \"player\": player\n",
    "}\n",
    "\n",
    "view = requests.get('http://20.196.214.79:5050/game/view', data = params)\n",
    "json_object = json.loads(view.content)\n",
    "print(\"data.message:\", json_object[\"Info\"])"
   ]
  }
 ],
 "metadata": {
  "interpreter": {
   "hash": "949777d72b0d2535278d3dc13498b2535136f6dfe0678499012e853ee9abcab1"
  },
  "kernelspec": {
   "display_name": "Python 3.7.4 64-bit",
   "language": "python",
   "name": "python3"
  },
  "language_info": {
   "codemirror_mode": {
    "name": "ipython",
    "version": 3
   },
   "file_extension": ".py",
   "mimetype": "text/x-python",
   "name": "python",
   "nbconvert_exporter": "python",
   "pygments_lexer": "ipython3",
   "version": "3.7.4"
  },
  "orig_nbformat": 4
 },
 "nbformat": 4,
 "nbformat_minor": 2
}
