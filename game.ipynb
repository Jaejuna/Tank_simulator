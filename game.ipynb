{
 "cells": [
  {
   "cell_type": "code",
   "execution_count": null,
   "metadata": {},
   "outputs": [],
   "source": [
    "#game/endturn\n",
    "key = 'b5d5bd555a1501b7324a020b229f7acdbf52afdea9bc2d5f96a74cf6d2e94780' \n",
    "player = \"P1\"      \n",
    "params = {\n",
    "    \"key\": key,\n",
    "    \"player\": player\n",
    "}\n",
    "endTurn = requests.post('http://20.196.214.79:5050/game/endturn', data = params)\n",
    "print('Ended turn!')"
   ]
  },
  {
   "cell_type": "code",
   "execution_count": null,
   "metadata": {},
   "outputs": [],
   "source": [
    "#game/giveup\n",
    "key = 'b5d5bd555a1501b7324a020b229f7acdbf52afdea9bc2d5f96a74cf6d2e94780' \n",
    "player = \"P1\"      \n",
    "params = {\n",
    "    \"key\": key,\n",
    "    \"player\": player\n",
    "}\n",
    "giveup = requests.post('http://20.196.214.79:5050/game/giveup', data = params)\n",
    "print('gave up the game!')"
   ]
  },
  {
   "cell_type": "code",
   "execution_count": null,
   "metadata": {},
   "outputs": [],
   "source": [
    "#game/status\n",
    "key = 'b5d5bd555a1501b7324a020b229f7acdbf52afdea9bc2d5f96a74cf6d2e94780' \n",
    "player = \"P1\"      \n",
    "params = {\n",
    "    \"key\": key,\n",
    "    \"player\": player\n",
    "}\n",
    "\n",
    "status = requests.get('https://20.196.214.79:5050/game/status', data = params)\n",
    "json_object = json.loads(status.content)\n",
    "agents = json_object[\"data\"][\"message\"][\"agent_info\"][\"agent\"]"
   ]
  },
  {
   "cell_type": "code",
   "execution_count": null,
   "metadata": {},
   "outputs": [],
   "source": [
    "#game/view\n",
    "key = 'b5d5bd555a1501b7324a020b229f7acdbf52afdea9bc2d5f96a74cf6d2e94780' \n",
    "player = \"P1\"      \n",
    "params = {\n",
    "    \"key\": key,\n",
    "    \"player\": player\n",
    "}\n",
    "\n",
    "view = requests.get('http://20.196.214.79:5050/game/view', data = params)\n",
    "json_object = json.loads(view.content)\n",
    "print(\"data.message:\", json_object[\"data\"][\"message\"])"
   ]
  }
 ],
 "metadata": {
  "language_info": {
   "name": "python"
  },
  "orig_nbformat": 4
 },
 "nbformat": 4,
 "nbformat_minor": 2
}
